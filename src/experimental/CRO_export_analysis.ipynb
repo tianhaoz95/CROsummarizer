{
 "cells": [
  {
   "cell_type": "code",
   "execution_count": 2,
   "metadata": {},
   "outputs": [],
   "source": [
    "import pandas as pd"
   ]
  },
  {
   "cell_type": "code",
   "execution_count": 24,
   "metadata": {},
   "outputs": [],
   "source": [
    "cro_history = pd.read_csv('./data/sample_cro_history.csv')"
   ]
  },
  {
   "cell_type": "code",
   "execution_count": 25,
   "metadata": {},
   "outputs": [
    {
     "data": {
      "text/html": [
       "<div>\n",
       "<style scoped>\n",
       "    .dataframe tbody tr th:only-of-type {\n",
       "        vertical-align: middle;\n",
       "    }\n",
       "\n",
       "    .dataframe tbody tr th {\n",
       "        vertical-align: top;\n",
       "    }\n",
       "\n",
       "    .dataframe thead th {\n",
       "        text-align: right;\n",
       "    }\n",
       "</style>\n",
       "<table border=\"1\" class=\"dataframe\">\n",
       "  <thead>\n",
       "    <tr style=\"text-align: right;\">\n",
       "      <th></th>\n",
       "      <th>Timestamp (UTC)</th>\n",
       "      <th>Transaction Description</th>\n",
       "      <th>Currency</th>\n",
       "      <th>Amount</th>\n",
       "      <th>To Currency</th>\n",
       "      <th>To Amount</th>\n",
       "      <th>Native Currency</th>\n",
       "      <th>Native Amount</th>\n",
       "      <th>Native Amount (in USD)</th>\n",
       "      <th>Transaction Kind</th>\n",
       "    </tr>\n",
       "  </thead>\n",
       "  <tbody>\n",
       "    <tr>\n",
       "      <th>0</th>\n",
       "      <td>2021-11-06 01:53:13</td>\n",
       "      <td>Convert Dust</td>\n",
       "      <td>CRO</td>\n",
       "      <td>0.046249</td>\n",
       "      <td>NaN</td>\n",
       "      <td>NaN</td>\n",
       "      <td>USD</td>\n",
       "      <td>0.02</td>\n",
       "      <td>0.02</td>\n",
       "      <td>dust_conversion_credited</td>\n",
       "    </tr>\n",
       "    <tr>\n",
       "      <th>1</th>\n",
       "      <td>2021-11-06 01:53:13</td>\n",
       "      <td>Convert Dust</td>\n",
       "      <td>USDC</td>\n",
       "      <td>-0.016138</td>\n",
       "      <td>NaN</td>\n",
       "      <td>NaN</td>\n",
       "      <td>USD</td>\n",
       "      <td>-0.02</td>\n",
       "      <td>-0.02</td>\n",
       "      <td>dust_conversion_debited</td>\n",
       "    </tr>\n",
       "    <tr>\n",
       "      <th>2</th>\n",
       "      <td>2021-11-06 01:52:44</td>\n",
       "      <td>USDC -&gt; CRO</td>\n",
       "      <td>USDC</td>\n",
       "      <td>-5.897358</td>\n",
       "      <td>CRO</td>\n",
       "      <td>16.900000</td>\n",
       "      <td>USD</td>\n",
       "      <td>5.80</td>\n",
       "      <td>5.80</td>\n",
       "      <td>crypto_exchange</td>\n",
       "    </tr>\n",
       "    <tr>\n",
       "      <th>3</th>\n",
       "      <td>2021-11-06 01:52:15</td>\n",
       "      <td>SHIB -&gt; USDC</td>\n",
       "      <td>SHIB</td>\n",
       "      <td>-101069.000000</td>\n",
       "      <td>USDC</td>\n",
       "      <td>5.913496</td>\n",
       "      <td>USD</td>\n",
       "      <td>5.91</td>\n",
       "      <td>5.91</td>\n",
       "      <td>crypto_exchange</td>\n",
       "    </tr>\n",
       "    <tr>\n",
       "      <th>4</th>\n",
       "      <td>2021-11-05 07:31:28</td>\n",
       "      <td>CRO Rewards</td>\n",
       "      <td>CRO</td>\n",
       "      <td>5.397231</td>\n",
       "      <td>NaN</td>\n",
       "      <td>NaN</td>\n",
       "      <td>USD</td>\n",
       "      <td>1.69</td>\n",
       "      <td>1.69</td>\n",
       "      <td>referral_card_cashback</td>\n",
       "    </tr>\n",
       "  </tbody>\n",
       "</table>\n",
       "</div>"
      ],
      "text/plain": [
       "       Timestamp (UTC) Transaction Description Currency         Amount  \\\n",
       "0  2021-11-06 01:53:13            Convert Dust      CRO       0.046249   \n",
       "1  2021-11-06 01:53:13            Convert Dust     USDC      -0.016138   \n",
       "2  2021-11-06 01:52:44             USDC -> CRO     USDC      -5.897358   \n",
       "3  2021-11-06 01:52:15            SHIB -> USDC     SHIB -101069.000000   \n",
       "4  2021-11-05 07:31:28             CRO Rewards      CRO       5.397231   \n",
       "\n",
       "  To Currency  To Amount Native Currency  Native Amount  \\\n",
       "0         NaN        NaN             USD           0.02   \n",
       "1         NaN        NaN             USD          -0.02   \n",
       "2         CRO  16.900000             USD           5.80   \n",
       "3        USDC   5.913496             USD           5.91   \n",
       "4         NaN        NaN             USD           1.69   \n",
       "\n",
       "   Native Amount (in USD)          Transaction Kind  \n",
       "0                    0.02  dust_conversion_credited  \n",
       "1                   -0.02   dust_conversion_debited  \n",
       "2                    5.80           crypto_exchange  \n",
       "3                    5.91           crypto_exchange  \n",
       "4                    1.69    referral_card_cashback  "
      ]
     },
     "execution_count": 25,
     "metadata": {},
     "output_type": "execute_result"
    }
   ],
   "source": [
    "cro_history.head()"
   ]
  },
  {
   "cell_type": "code",
   "execution_count": 32,
   "metadata": {},
   "outputs": [
    {
     "name": "stdout",
     "output_type": "stream",
     "text": [
      "['Convert Dust' 'USDC -> CRO' 'SHIB -> USDC' 'CRO Rewards' 'USDC -> SHIB'\n",
      " 'Crypto Earn' 'CRO Stake Rewards' 'Crypto Earn Deposit' 'USD -> USDC'\n",
      " 'USDC -> USD' 'USD -> CRO' 'Card Rebate: Netflix'\n",
      " 'Crypto Earn Withdrawal' 'CRO Stake' 'Buy CRO' 'Buy SHIB' 'CRO -> USDC']\n"
     ]
    }
   ],
   "source": [
    "print(cro_history['Transaction Description'].unique())"
   ]
  },
  {
   "cell_type": "code",
   "execution_count": 33,
   "metadata": {},
   "outputs": [],
   "source": [
    "cro_card_history = pd.read_csv('./data/sample_cro_card_history.csv')"
   ]
  },
  {
   "cell_type": "code",
   "execution_count": 34,
   "metadata": {},
   "outputs": [
    {
     "data": {
      "text/html": [
       "<div>\n",
       "<style scoped>\n",
       "    .dataframe tbody tr th:only-of-type {\n",
       "        vertical-align: middle;\n",
       "    }\n",
       "\n",
       "    .dataframe tbody tr th {\n",
       "        vertical-align: top;\n",
       "    }\n",
       "\n",
       "    .dataframe thead th {\n",
       "        text-align: right;\n",
       "    }\n",
       "</style>\n",
       "<table border=\"1\" class=\"dataframe\">\n",
       "  <thead>\n",
       "    <tr style=\"text-align: right;\">\n",
       "      <th></th>\n",
       "      <th>Timestamp (UTC)</th>\n",
       "      <th>Transaction Description</th>\n",
       "      <th>Currency</th>\n",
       "      <th>Amount</th>\n",
       "      <th>To Currency</th>\n",
       "      <th>To Amount</th>\n",
       "      <th>Native Currency</th>\n",
       "      <th>Native Amount</th>\n",
       "      <th>Native Amount (in USD)</th>\n",
       "      <th>Transaction Kind</th>\n",
       "    </tr>\n",
       "  </thead>\n",
       "  <tbody>\n",
       "    <tr>\n",
       "      <th>0</th>\n",
       "      <td>2021-11-06 18:56:31</td>\n",
       "      <td>Tous Les Jours</td>\n",
       "      <td>USD</td>\n",
       "      <td>-4.50</td>\n",
       "      <td>NaN</td>\n",
       "      <td>NaN</td>\n",
       "      <td>USD</td>\n",
       "      <td>-4.50</td>\n",
       "      <td>-4.50</td>\n",
       "      <td>NaN</td>\n",
       "    </tr>\n",
       "    <tr>\n",
       "      <th>1</th>\n",
       "      <td>2021-11-04 18:30:44</td>\n",
       "      <td>Banfield Pet*Wppayment</td>\n",
       "      <td>USD</td>\n",
       "      <td>-56.47</td>\n",
       "      <td>NaN</td>\n",
       "      <td>NaN</td>\n",
       "      <td>USD</td>\n",
       "      <td>-56.47</td>\n",
       "      <td>-56.47</td>\n",
       "      <td>NaN</td>\n",
       "    </tr>\n",
       "    <tr>\n",
       "      <th>2</th>\n",
       "      <td>2021-11-04 11:48:53</td>\n",
       "      <td>H Mart   San Jose</td>\n",
       "      <td>USD</td>\n",
       "      <td>-12.85</td>\n",
       "      <td>NaN</td>\n",
       "      <td>NaN</td>\n",
       "      <td>USD</td>\n",
       "      <td>-12.85</td>\n",
       "      <td>-12.85</td>\n",
       "      <td>NaN</td>\n",
       "    </tr>\n",
       "    <tr>\n",
       "      <th>3</th>\n",
       "      <td>2021-11-04 11:41:38</td>\n",
       "      <td>Tous Les Jours</td>\n",
       "      <td>USD</td>\n",
       "      <td>-4.75</td>\n",
       "      <td>NaN</td>\n",
       "      <td>NaN</td>\n",
       "      <td>USD</td>\n",
       "      <td>-4.75</td>\n",
       "      <td>-4.75</td>\n",
       "      <td>NaN</td>\n",
       "    </tr>\n",
       "    <tr>\n",
       "      <th>4</th>\n",
       "      <td>2021-11-04 06:45:56</td>\n",
       "      <td>Comcast California</td>\n",
       "      <td>USD</td>\n",
       "      <td>-70.00</td>\n",
       "      <td>NaN</td>\n",
       "      <td>NaN</td>\n",
       "      <td>USD</td>\n",
       "      <td>-70.00</td>\n",
       "      <td>-70.00</td>\n",
       "      <td>NaN</td>\n",
       "    </tr>\n",
       "  </tbody>\n",
       "</table>\n",
       "</div>"
      ],
      "text/plain": [
       "       Timestamp (UTC) Transaction Description Currency  Amount To Currency  \\\n",
       "0  2021-11-06 18:56:31          Tous Les Jours      USD   -4.50         NaN   \n",
       "1  2021-11-04 18:30:44  Banfield Pet*Wppayment      USD  -56.47         NaN   \n",
       "2  2021-11-04 11:48:53       H Mart   San Jose      USD  -12.85         NaN   \n",
       "3  2021-11-04 11:41:38          Tous Les Jours      USD   -4.75         NaN   \n",
       "4  2021-11-04 06:45:56      Comcast California      USD  -70.00         NaN   \n",
       "\n",
       "   To Amount Native Currency  Native Amount  Native Amount (in USD)  \\\n",
       "0        NaN             USD          -4.50                   -4.50   \n",
       "1        NaN             USD         -56.47                  -56.47   \n",
       "2        NaN             USD         -12.85                  -12.85   \n",
       "3        NaN             USD          -4.75                   -4.75   \n",
       "4        NaN             USD         -70.00                  -70.00   \n",
       "\n",
       "   Transaction Kind  \n",
       "0               NaN  \n",
       "1               NaN  \n",
       "2               NaN  \n",
       "3               NaN  \n",
       "4               NaN  "
      ]
     },
     "execution_count": 34,
     "metadata": {},
     "output_type": "execute_result"
    }
   ],
   "source": [
    "cro_card_history.head()"
   ]
  },
  {
   "cell_type": "code",
   "execution_count": 35,
   "metadata": {},
   "outputs": [
    {
     "name": "stdout",
     "output_type": "stream",
     "text": [
      "['Tous Les Jours' 'Banfield Pet*Wppayment' 'H Mart   San Jose'\n",
      " 'Comcast California' 'Costco Whse #1004' 'USD Deposit' 'Github'\n",
      " 'Banfield Pet Hospital' 'USDC -> USD' 'Fh* Roaring Camp Railr' 'Yamibuy'\n",
      " 'Netflix.Com']\n"
     ]
    }
   ],
   "source": [
    "print(cro_card_history['Transaction Description'].unique())"
   ]
  },
  {
   "cell_type": "code",
   "execution_count": 16,
   "metadata": {},
   "outputs": [],
   "source": [
    "principal_transactions = cro_history[cro_history['Transaction Description'].isin(('USD -> USDC', 'USD -> CRO'))]"
   ]
  },
  {
   "cell_type": "code",
   "execution_count": 29,
   "metadata": {},
   "outputs": [
    {
     "data": {
      "text/html": [
       "<div>\n",
       "<style scoped>\n",
       "    .dataframe tbody tr th:only-of-type {\n",
       "        vertical-align: middle;\n",
       "    }\n",
       "\n",
       "    .dataframe tbody tr th {\n",
       "        vertical-align: top;\n",
       "    }\n",
       "\n",
       "    .dataframe thead th {\n",
       "        text-align: right;\n",
       "    }\n",
       "</style>\n",
       "<table border=\"1\" class=\"dataframe\">\n",
       "  <thead>\n",
       "    <tr style=\"text-align: right;\">\n",
       "      <th></th>\n",
       "      <th>Timestamp (UTC)</th>\n",
       "      <th>Transaction Description</th>\n",
       "      <th>Currency</th>\n",
       "      <th>Amount</th>\n",
       "      <th>To Currency</th>\n",
       "      <th>To Amount</th>\n",
       "      <th>Native Currency</th>\n",
       "      <th>Native Amount</th>\n",
       "      <th>Native Amount (in USD)</th>\n",
       "      <th>Transaction Kind</th>\n",
       "    </tr>\n",
       "  </thead>\n",
       "  <tbody>\n",
       "    <tr>\n",
       "      <th>48</th>\n",
       "      <td>2021-10-25 15:36:59</td>\n",
       "      <td>USD -&gt; USDC</td>\n",
       "      <td>USD</td>\n",
       "      <td>-360.00</td>\n",
       "      <td>USDC</td>\n",
       "      <td>360.0</td>\n",
       "      <td>USD</td>\n",
       "      <td>360.00</td>\n",
       "      <td>360.00</td>\n",
       "      <td>van_purchase</td>\n",
       "    </tr>\n",
       "    <tr>\n",
       "      <th>55</th>\n",
       "      <td>2021-10-22 23:21:53</td>\n",
       "      <td>USD -&gt; CRO</td>\n",
       "      <td>USD</td>\n",
       "      <td>-38.39</td>\n",
       "      <td>CRO</td>\n",
       "      <td>205.9</td>\n",
       "      <td>USD</td>\n",
       "      <td>38.39</td>\n",
       "      <td>38.39</td>\n",
       "      <td>van_purchase</td>\n",
       "    </tr>\n",
       "    <tr>\n",
       "      <th>56</th>\n",
       "      <td>2021-10-22 21:30:38</td>\n",
       "      <td>USD -&gt; CRO</td>\n",
       "      <td>USD</td>\n",
       "      <td>-18.51</td>\n",
       "      <td>CRO</td>\n",
       "      <td>100.0</td>\n",
       "      <td>USD</td>\n",
       "      <td>18.51</td>\n",
       "      <td>18.51</td>\n",
       "      <td>van_purchase</td>\n",
       "    </tr>\n",
       "    <tr>\n",
       "      <th>57</th>\n",
       "      <td>2021-10-22 19:27:22</td>\n",
       "      <td>USD -&gt; CRO</td>\n",
       "      <td>USD</td>\n",
       "      <td>-18.48</td>\n",
       "      <td>CRO</td>\n",
       "      <td>100.0</td>\n",
       "      <td>USD</td>\n",
       "      <td>18.48</td>\n",
       "      <td>18.48</td>\n",
       "      <td>van_purchase</td>\n",
       "    </tr>\n",
       "    <tr>\n",
       "      <th>58</th>\n",
       "      <td>2021-10-22 17:16:53</td>\n",
       "      <td>USD -&gt; CRO</td>\n",
       "      <td>USD</td>\n",
       "      <td>-18.64</td>\n",
       "      <td>CRO</td>\n",
       "      <td>100.0</td>\n",
       "      <td>USD</td>\n",
       "      <td>18.64</td>\n",
       "      <td>18.64</td>\n",
       "      <td>van_purchase</td>\n",
       "    </tr>\n",
       "  </tbody>\n",
       "</table>\n",
       "</div>"
      ],
      "text/plain": [
       "        Timestamp (UTC) Transaction Description Currency  Amount To Currency  \\\n",
       "48  2021-10-25 15:36:59             USD -> USDC      USD -360.00        USDC   \n",
       "55  2021-10-22 23:21:53              USD -> CRO      USD  -38.39         CRO   \n",
       "56  2021-10-22 21:30:38              USD -> CRO      USD  -18.51         CRO   \n",
       "57  2021-10-22 19:27:22              USD -> CRO      USD  -18.48         CRO   \n",
       "58  2021-10-22 17:16:53              USD -> CRO      USD  -18.64         CRO   \n",
       "\n",
       "    To Amount Native Currency  Native Amount  Native Amount (in USD)  \\\n",
       "48      360.0             USD         360.00                  360.00   \n",
       "55      205.9             USD          38.39                   38.39   \n",
       "56      100.0             USD          18.51                   18.51   \n",
       "57      100.0             USD          18.48                   18.48   \n",
       "58      100.0             USD          18.64                   18.64   \n",
       "\n",
       "   Transaction Kind  \n",
       "48     van_purchase  \n",
       "55     van_purchase  \n",
       "56     van_purchase  \n",
       "57     van_purchase  \n",
       "58     van_purchase  "
      ]
     },
     "execution_count": 29,
     "metadata": {},
     "output_type": "execute_result"
    }
   ],
   "source": [
    "principal_transactions.head()"
   ]
  },
  {
   "cell_type": "code",
   "execution_count": 38,
   "metadata": {},
   "outputs": [
    {
     "name": "stdout",
     "output_type": "stream",
     "text": [
      "Principal sum: 5409 USD\n"
     ]
    }
   ],
   "source": [
    "principal_investment = -int(principal_transactions['Amount'].sum())\n",
    "print('Principal sum: {0} USD'.format(principal_investment))"
   ]
  },
  {
   "cell_type": "code",
   "execution_count": 39,
   "metadata": {},
   "outputs": [
    {
     "name": "stdout",
     "output_type": "stream",
     "text": [
      "Expense: 359.32 USD\n"
     ]
    }
   ],
   "source": [
    "expense = -cro_card_history[cro_card_history['Amount'] < 0]['Amount'].sum()\n",
    "print('Expense: {0} USD'.format(expense))"
   ]
  },
  {
   "cell_type": "code",
   "execution_count": 41,
   "metadata": {},
   "outputs": [
    {
     "name": "stdout",
     "output_type": "stream",
     "text": [
      "Normalized investment: 5049.68 USD\n"
     ]
    }
   ],
   "source": [
    "normalized_investment = principal_investment - expense\n",
    "print('Normalized investment: {0} USD'.format(normalized_investment))"
   ]
  },
  {
   "cell_type": "code",
   "execution_count": null,
   "metadata": {},
   "outputs": [],
   "source": []
  }
 ],
 "metadata": {
  "interpreter": {
   "hash": "949777d72b0d2535278d3dc13498b2535136f6dfe0678499012e853ee9abcab1"
  },
  "kernelspec": {
   "display_name": "Python 3.10.0 64-bit",
   "language": "python",
   "name": "python3"
  },
  "language_info": {
   "codemirror_mode": {
    "name": "ipython",
    "version": 3
   },
   "file_extension": ".py",
   "mimetype": "text/x-python",
   "name": "python",
   "nbconvert_exporter": "python",
   "pygments_lexer": "ipython3",
   "version": "3.10.0"
  },
  "orig_nbformat": 4
 },
 "nbformat": 4,
 "nbformat_minor": 2
}
